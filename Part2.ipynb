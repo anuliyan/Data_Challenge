{
 "cells": [
  {
   "cell_type": "markdown",
   "id": "aa7004ac-1b91-4669-ab74-82181835c9eb",
   "metadata": {},
   "source": [
    "# CNT exists in multiple markets. Our stakeholders are curious which market's\n",
    "# subscription order form is the best. Find the subscription rate for each of CNT's markets.\n",
    "# What might you say to a stakeholder to contextualize these results?\n",
    "# We define subscription rate as subscriptions/unique users"
   ]
  },
  {
   "cell_type": "code",
   "execution_count": 133,
   "id": "dc7d62fd-b58c-4d6a-b963-48175814d15b",
   "metadata": {},
   "outputs": [],
   "source": [
    "import pandas as pd\n",
    "import numpy as np\n",
    "import seaborn as sns"
   ]
  },
  {
   "cell_type": "code",
   "execution_count": 73,
   "id": "7c14a872-7c42-4ffc-b5fb-64d8aaeb62be",
   "metadata": {},
   "outputs": [],
   "source": [
    "#opening the file\n",
    "df = pd.read_excel(r'/Users/anuliyanagamage/Downloads/Data_Challenge_SRPA.xlsx') "
   ]
  },
  {
   "cell_type": "code",
   "execution_count": 58,
   "id": "a1f96e8d-c46f-429f-b8b1-05c33ccb094c",
   "metadata": {},
   "outputs": [],
   "source": [
    "# Finding CNT brand\n",
    "CNT_brand = df.loc[df['Brand'] == 'Conde Nast Traveler']"
   ]
  },
  {
   "cell_type": "code",
   "execution_count": 59,
   "id": "236a34e7-f28e-4afa-8ba6-3a966d2e92cf",
   "metadata": {},
   "outputs": [
    {
     "data": {
      "text/plain": [
       "count     148661\n",
       "unique         7\n",
       "top        India\n",
       "freq       22140\n",
       "Name: Market, dtype: object"
      ]
     },
     "execution_count": 59,
     "metadata": {},
     "output_type": "execute_result"
    }
   ],
   "source": [
    "# According to the data there are 7 markets most frequent market is India. \n",
    "CNT_brand[\"Market\"].describe()"
   ]
  },
  {
   "cell_type": "code",
   "execution_count": 75,
   "id": "71bb633d-773e-4d1c-8f72-7f031bd2e803",
   "metadata": {},
   "outputs": [
    {
     "data": {
      "text/plain": [
       "count     146617\n",
       "unique         4\n",
       "top         Food\n",
       "freq       47110\n",
       "Name: Site_Section, dtype: object"
      ]
     },
     "execution_count": 75,
     "metadata": {},
     "output_type": "execute_result"
    }
   ],
   "source": [
    "# The most selected site is food\n",
    "CNT_brand[\"Site_Section\"].describe()"
   ]
  },
  {
   "cell_type": "code",
   "execution_count": 76,
   "id": "b6f006fc-090c-4471-b6b3-cdbb8a80b0de",
   "metadata": {},
   "outputs": [
    {
     "data": {
      "text/plain": [
       "count      148661\n",
       "unique          3\n",
       "top       Desktop\n",
       "freq        89253\n",
       "Name: Device, dtype: object"
      ]
     },
     "execution_count": 76,
     "metadata": {},
     "output_type": "execute_result"
    }
   ],
   "source": [
    "# Most used device is desktop\n",
    "CNT_brand[\"Device\"].describe()"
   ]
  },
  {
   "cell_type": "code",
   "execution_count": 97,
   "id": "0594dbf2-d572-4eb9-bb7e-13d502a5c24f",
   "metadata": {},
   "outputs": [],
   "source": [
    "# Creating a dataset with 3 columns\n",
    "df1 = CNT_brand[['Brand','Market','User_Id', 'Session_Id']]"
   ]
  },
  {
   "cell_type": "code",
   "execution_count": 98,
   "id": "927ef928-4c80-43d9-ab77-19a9b84cece5",
   "metadata": {},
   "outputs": [],
   "source": [
    "# Dropping duplicates to find unique users\n",
    "df2=df1.drop_duplicates()"
   ]
  },
  {
   "cell_type": "code",
   "execution_count": 99,
   "id": "509b85c1-c7fc-45ab-9b92-cb28d4af0eee",
   "metadata": {},
   "outputs": [
    {
     "data": {
      "text/html": [
       "<div>\n",
       "<style scoped>\n",
       "    .dataframe tbody tr th:only-of-type {\n",
       "        vertical-align: middle;\n",
       "    }\n",
       "\n",
       "    .dataframe tbody tr th {\n",
       "        vertical-align: top;\n",
       "    }\n",
       "\n",
       "    .dataframe thead th {\n",
       "        text-align: right;\n",
       "    }\n",
       "</style>\n",
       "<table border=\"1\" class=\"dataframe\">\n",
       "  <thead>\n",
       "    <tr style=\"text-align: right;\">\n",
       "      <th></th>\n",
       "      <th>Brand</th>\n",
       "      <th>Market</th>\n",
       "      <th>User_Id</th>\n",
       "      <th>Session_Id</th>\n",
       "    </tr>\n",
       "  </thead>\n",
       "  <tbody>\n",
       "    <tr>\n",
       "      <th>23</th>\n",
       "      <td>Conde Nast Traveler</td>\n",
       "      <td>Middle East</td>\n",
       "      <td>10011</td>\n",
       "      <td>13896085553</td>\n",
       "    </tr>\n",
       "    <tr>\n",
       "      <th>26</th>\n",
       "      <td>Conde Nast Traveler</td>\n",
       "      <td>Middle East</td>\n",
       "      <td>10011</td>\n",
       "      <td>24634628627</td>\n",
       "    </tr>\n",
       "    <tr>\n",
       "      <th>29</th>\n",
       "      <td>Conde Nast Traveler</td>\n",
       "      <td>Middle East</td>\n",
       "      <td>10011</td>\n",
       "      <td>89922012091</td>\n",
       "    </tr>\n",
       "    <tr>\n",
       "      <th>32</th>\n",
       "      <td>Conde Nast Traveler</td>\n",
       "      <td>Spain</td>\n",
       "      <td>10014</td>\n",
       "      <td>72438333891</td>\n",
       "    </tr>\n",
       "    <tr>\n",
       "      <th>35</th>\n",
       "      <td>Conde Nast Traveler</td>\n",
       "      <td>Spain</td>\n",
       "      <td>10014</td>\n",
       "      <td>80133001775</td>\n",
       "    </tr>\n",
       "    <tr>\n",
       "      <th>...</th>\n",
       "      <td>...</td>\n",
       "      <td>...</td>\n",
       "      <td>...</td>\n",
       "      <td>...</td>\n",
       "    </tr>\n",
       "    <tr>\n",
       "      <th>375715</th>\n",
       "      <td>Conde Nast Traveler</td>\n",
       "      <td>Middle East</td>\n",
       "      <td>99968</td>\n",
       "      <td>99904298145</td>\n",
       "    </tr>\n",
       "    <tr>\n",
       "      <th>375750</th>\n",
       "      <td>Conde Nast Traveler</td>\n",
       "      <td>Spain</td>\n",
       "      <td>99983</td>\n",
       "      <td>36142434745</td>\n",
       "    </tr>\n",
       "    <tr>\n",
       "      <th>375753</th>\n",
       "      <td>Conde Nast Traveler</td>\n",
       "      <td>Spain</td>\n",
       "      <td>99983</td>\n",
       "      <td>40614153542</td>\n",
       "    </tr>\n",
       "    <tr>\n",
       "      <th>375755</th>\n",
       "      <td>Conde Nast Traveler</td>\n",
       "      <td>Spain</td>\n",
       "      <td>99983</td>\n",
       "      <td>63534517045</td>\n",
       "    </tr>\n",
       "    <tr>\n",
       "      <th>375760</th>\n",
       "      <td>Conde Nast Traveler</td>\n",
       "      <td>Spain</td>\n",
       "      <td>99983</td>\n",
       "      <td>74433738770</td>\n",
       "    </tr>\n",
       "  </tbody>\n",
       "</table>\n",
       "<p>39694 rows × 4 columns</p>\n",
       "</div>"
      ],
      "text/plain": [
       "                      Brand       Market  User_Id   Session_Id\n",
       "23      Conde Nast Traveler  Middle East    10011  13896085553\n",
       "26      Conde Nast Traveler  Middle East    10011  24634628627\n",
       "29      Conde Nast Traveler  Middle East    10011  89922012091\n",
       "32      Conde Nast Traveler        Spain    10014  72438333891\n",
       "35      Conde Nast Traveler        Spain    10014  80133001775\n",
       "...                     ...          ...      ...          ...\n",
       "375715  Conde Nast Traveler  Middle East    99968  99904298145\n",
       "375750  Conde Nast Traveler        Spain    99983  36142434745\n",
       "375753  Conde Nast Traveler        Spain    99983  40614153542\n",
       "375755  Conde Nast Traveler        Spain    99983  63534517045\n",
       "375760  Conde Nast Traveler        Spain    99983  74433738770\n",
       "\n",
       "[39694 rows x 4 columns]"
      ]
     },
     "execution_count": 99,
     "metadata": {},
     "output_type": "execute_result"
    }
   ],
   "source": [
    "#Sessions are now uniqe per user\n",
    "df2"
   ]
  },
  {
   "cell_type": "code",
   "execution_count": 100,
   "id": "f4ecf36f-2df5-42b7-9d0d-a6f83750463f",
   "metadata": {
    "collapsed": true,
    "jupyter": {
     "outputs_hidden": true
    },
    "tags": []
   },
   "outputs": [
    {
     "name": "stderr",
     "output_type": "stream",
     "text": [
      "<ipython-input-100-d0371586bb3a>:2: SettingWithCopyWarning: \n",
      "A value is trying to be set on a copy of a slice from a DataFrame.\n",
      "Try using .loc[row_indexer,col_indexer] = value instead\n",
      "\n",
      "See the caveats in the documentation: https://pandas.pydata.org/pandas-docs/stable/user_guide/indexing.html#returning-a-view-versus-a-copy\n",
      "  df2['Average_Middle_East'] = df2.loc[df2['Market'] == 'Middle East', 'Session_Id'].count()\n",
      "<ipython-input-100-d0371586bb3a>:3: SettingWithCopyWarning: \n",
      "A value is trying to be set on a copy of a slice from a DataFrame.\n",
      "Try using .loc[row_indexer,col_indexer] = value instead\n",
      "\n",
      "See the caveats in the documentation: https://pandas.pydata.org/pandas-docs/stable/user_guide/indexing.html#returning-a-view-versus-a-copy\n",
      "  df2['Average_India'] = df2.loc[df2['Market'] == 'India', 'Session_Id'].count()\n",
      "<ipython-input-100-d0371586bb3a>:4: SettingWithCopyWarning: \n",
      "A value is trying to be set on a copy of a slice from a DataFrame.\n",
      "Try using .loc[row_indexer,col_indexer] = value instead\n",
      "\n",
      "See the caveats in the documentation: https://pandas.pydata.org/pandas-docs/stable/user_guide/indexing.html#returning-a-view-versus-a-copy\n",
      "  df2['Average_Spain'] = df2.loc[df2['Market'] == 'Spain', 'Session_Id'].count()\n",
      "<ipython-input-100-d0371586bb3a>:5: SettingWithCopyWarning: \n",
      "A value is trying to be set on a copy of a slice from a DataFrame.\n",
      "Try using .loc[row_indexer,col_indexer] = value instead\n",
      "\n",
      "See the caveats in the documentation: https://pandas.pydata.org/pandas-docs/stable/user_guide/indexing.html#returning-a-view-versus-a-copy\n",
      "  df2['Average_US'] = df2.loc[df2['Market'] == 'U.S.', 'Session_Id'].count()\n",
      "<ipython-input-100-d0371586bb3a>:6: SettingWithCopyWarning: \n",
      "A value is trying to be set on a copy of a slice from a DataFrame.\n",
      "Try using .loc[row_indexer,col_indexer] = value instead\n",
      "\n",
      "See the caveats in the documentation: https://pandas.pydata.org/pandas-docs/stable/user_guide/indexing.html#returning-a-view-versus-a-copy\n",
      "  df2['Average_UK'] = df2.loc[df2['Market'] == 'U.K.', 'Session_Id'].count()\n"
     ]
    }
   ],
   "source": [
    "#Finding the sum per Market\n",
    "df2['Average_Middle_East'] = df2.loc[df2['Market'] == 'Middle East', 'Session_Id'].count()\n",
    "df2['Average_India'] = df2.loc[df2['Market'] == 'India', 'Session_Id'].count()\n",
    "df2['Average_Spain'] = df2.loc[df2['Market'] == 'Spain', 'Session_Id'].count()\n",
    "df2['Average_US'] = df2.loc[df2['Market'] == 'U.S.', 'Session_Id'].count()\n",
    "df2['Average_UK'] = df2.loc[df2['Market'] == 'U.K.', 'Session_Id'].count()"
   ]
  },
  {
   "cell_type": "code",
   "execution_count": 102,
   "id": "be01e27a-c7a7-4ec5-b8ac-edb9ac8c590d",
   "metadata": {},
   "outputs": [
    {
     "data": {
      "text/plain": [
       "Average_Middle_East    5923\n",
       "Average_India          5887\n",
       "Average_Spain          5482\n",
       "Average_US             5535\n",
       "Average_UK             5397\n",
       "Name: 23, dtype: int64"
      ]
     },
     "execution_count": 102,
     "metadata": {},
     "output_type": "execute_result"
    }
   ],
   "source": [
    "# Average subscriptions per Market\n",
    "df3 = df2[['Average_Middle_East','Average_India','Average_Spain','Average_US','Average_UK']]\n",
    "df3.iloc[0]"
   ]
  },
  {
   "cell_type": "markdown",
   "id": "a957d443-a67a-4dae-becd-251466c97993",
   "metadata": {},
   "source": [
    "# Glamour launched a new marketing strategy on 09/01/2020 with more personalized ads. Compare the click through rate for Ads on Glamour before and after the change in strategy. Did it increase the CTR? What other insights can you find about the new strategy? We define click through rate as clicks/impressions"
   ]
  },
  {
   "cell_type": "markdown",
   "id": "a4f90c07-d79d-456f-a53e-87c8fb0b2d7d",
   "metadata": {},
   "source": [
    "# CTR = Total Measured Clicks / Total Measured Ad Impressions (Views) x 100\n",
    "# (clicks / impressions) x 100% = CTR"
   ]
  },
  {
   "cell_type": "code",
   "execution_count": 110,
   "id": "f1c13310-1e0d-40ee-a569-78cf49c8568f",
   "metadata": {},
   "outputs": [
    {
     "data": {
      "text/plain": [
       "2.2"
      ]
     },
     "execution_count": 110,
     "metadata": {},
     "output_type": "execute_result"
    }
   ],
   "source": [
    "# According to google analytics Data from 09/01/2020 - 07-09-2021\n",
    "\n",
    "# AD CLICKs = 16,340\n",
    "# AD Impressions = 746731\n",
    "CTR=(16340/746731)*100\n",
    "round(CTR, 1)"
   ]
  },
  {
   "cell_type": "code",
   "execution_count": 111,
   "id": "a4a9d456-b49f-4c38-94bd-05bf9ee4f94b",
   "metadata": {},
   "outputs": [
    {
     "data": {
      "text/plain": [
       "1.4"
      ]
     },
     "execution_count": 111,
     "metadata": {},
     "output_type": "execute_result"
    }
   ],
   "source": [
    "# According to google analytics Data from 06/19/2020 - 09-01-2020\n",
    "\n",
    "# Ad Clicks = 4,245\n",
    "# Ad Impressions = 297312\n",
    "CTR=(4245/297312)*100\n",
    "round(CTR, 1)"
   ]
  },
  {
   "cell_type": "markdown",
   "id": "96e690bf-80a9-4f9e-8277-7a256ccca822",
   "metadata": {},
   "source": [
    "# A product manager is interested in brand loyalty. Please create a monthly cohort\n",
    "# retention graph for Pitchfork.\n",
    "# Reminder: Session Id is only distinct to an individual user"
   ]
  },
  {
   "cell_type": "code",
   "execution_count": 156,
   "id": "1e589be6-896b-47e6-9fa6-102d562cd4d1",
   "metadata": {},
   "outputs": [],
   "source": [
    "#Creating pitchfork dataset\n",
    "Pitchfork_brand = df.loc[df['Brand'] == 'Pitchfork']"
   ]
  },
  {
   "cell_type": "code",
   "execution_count": 123,
   "id": "2205a683-8945-43a5-8798-4a0c4f93f5e9",
   "metadata": {},
   "outputs": [],
   "source": [
    "# Dropping duplicates to find unique users\n",
    "Pitchfork_brand=Pitchfork_brand.drop_duplicates()"
   ]
  },
  {
   "cell_type": "code",
   "execution_count": 124,
   "id": "5089a531-b06c-4161-ab04-ee706f31c7ee",
   "metadata": {},
   "outputs": [
    {
     "data": {
      "text/html": [
       "<div>\n",
       "<style scoped>\n",
       "    .dataframe tbody tr th:only-of-type {\n",
       "        vertical-align: middle;\n",
       "    }\n",
       "\n",
       "    .dataframe tbody tr th {\n",
       "        vertical-align: top;\n",
       "    }\n",
       "\n",
       "    .dataframe thead th {\n",
       "        text-align: right;\n",
       "    }\n",
       "</style>\n",
       "<table border=\"1\" class=\"dataframe\">\n",
       "  <thead>\n",
       "    <tr style=\"text-align: right;\">\n",
       "      <th></th>\n",
       "      <th>Brand</th>\n",
       "      <th>Market</th>\n",
       "      <th>User_Id</th>\n",
       "      <th>Session_Id</th>\n",
       "      <th>Date</th>\n",
       "      <th>Device</th>\n",
       "      <th>Event_Name</th>\n",
       "      <th>Component_Name</th>\n",
       "      <th>Site_Section</th>\n",
       "      <th>Event_Order</th>\n",
       "    </tr>\n",
       "  </thead>\n",
       "  <tbody>\n",
       "    <tr>\n",
       "      <th>0</th>\n",
       "      <td>Pitchfork</td>\n",
       "      <td>U.S.</td>\n",
       "      <td>10006</td>\n",
       "      <td>14483128093</td>\n",
       "      <td>2019-09-12</td>\n",
       "      <td>Desktop</td>\n",
       "      <td>Pageview</td>\n",
       "      <td>Article</td>\n",
       "      <td>Songs</td>\n",
       "      <td>1</td>\n",
       "    </tr>\n",
       "    <tr>\n",
       "      <th>1</th>\n",
       "      <td>Pitchfork</td>\n",
       "      <td>U.S.</td>\n",
       "      <td>10006</td>\n",
       "      <td>14483128093</td>\n",
       "      <td>2019-09-12</td>\n",
       "      <td>Desktop</td>\n",
       "      <td>Impression</td>\n",
       "      <td>Video</td>\n",
       "      <td>Songs</td>\n",
       "      <td>2</td>\n",
       "    </tr>\n",
       "    <tr>\n",
       "      <th>2</th>\n",
       "      <td>Pitchfork</td>\n",
       "      <td>U.S.</td>\n",
       "      <td>10006</td>\n",
       "      <td>14483128093</td>\n",
       "      <td>2019-09-12</td>\n",
       "      <td>Desktop</td>\n",
       "      <td>Impression</td>\n",
       "      <td>Advertisement</td>\n",
       "      <td>Songs</td>\n",
       "      <td>3</td>\n",
       "    </tr>\n",
       "    <tr>\n",
       "      <th>3</th>\n",
       "      <td>Pitchfork</td>\n",
       "      <td>U.S.</td>\n",
       "      <td>10006</td>\n",
       "      <td>14483128093</td>\n",
       "      <td>2019-09-12</td>\n",
       "      <td>Desktop</td>\n",
       "      <td>Pageview</td>\n",
       "      <td>Gallery</td>\n",
       "      <td>Artists</td>\n",
       "      <td>4</td>\n",
       "    </tr>\n",
       "    <tr>\n",
       "      <th>4</th>\n",
       "      <td>Pitchfork</td>\n",
       "      <td>U.S.</td>\n",
       "      <td>10006</td>\n",
       "      <td>14483128093</td>\n",
       "      <td>2019-09-12</td>\n",
       "      <td>Desktop</td>\n",
       "      <td>Impression</td>\n",
       "      <td>Video</td>\n",
       "      <td>Artists</td>\n",
       "      <td>5</td>\n",
       "    </tr>\n",
       "    <tr>\n",
       "      <th>...</th>\n",
       "      <td>...</td>\n",
       "      <td>...</td>\n",
       "      <td>...</td>\n",
       "      <td>...</td>\n",
       "      <td>...</td>\n",
       "      <td>...</td>\n",
       "      <td>...</td>\n",
       "      <td>...</td>\n",
       "      <td>...</td>\n",
       "      <td>...</td>\n",
       "    </tr>\n",
       "    <tr>\n",
       "      <th>375785</th>\n",
       "      <td>Pitchfork</td>\n",
       "      <td>U.S.</td>\n",
       "      <td>99994</td>\n",
       "      <td>90371827243</td>\n",
       "      <td>2019-06-28</td>\n",
       "      <td>Mobile</td>\n",
       "      <td>Pageview</td>\n",
       "      <td>Gallery</td>\n",
       "      <td>Albums</td>\n",
       "      <td>1</td>\n",
       "    </tr>\n",
       "    <tr>\n",
       "      <th>375786</th>\n",
       "      <td>Pitchfork</td>\n",
       "      <td>U.S.</td>\n",
       "      <td>99994</td>\n",
       "      <td>90371827243</td>\n",
       "      <td>2019-06-28</td>\n",
       "      <td>Mobile</td>\n",
       "      <td>Impression</td>\n",
       "      <td>Advertisement</td>\n",
       "      <td>Albums</td>\n",
       "      <td>2</td>\n",
       "    </tr>\n",
       "    <tr>\n",
       "      <th>375787</th>\n",
       "      <td>Pitchfork</td>\n",
       "      <td>U.S.</td>\n",
       "      <td>99994</td>\n",
       "      <td>90371827243</td>\n",
       "      <td>2019-06-28</td>\n",
       "      <td>Mobile</td>\n",
       "      <td>Pageview</td>\n",
       "      <td>Gallery</td>\n",
       "      <td>Artists</td>\n",
       "      <td>3</td>\n",
       "    </tr>\n",
       "    <tr>\n",
       "      <th>375788</th>\n",
       "      <td>Pitchfork</td>\n",
       "      <td>U.S.</td>\n",
       "      <td>99994</td>\n",
       "      <td>90371827243</td>\n",
       "      <td>2019-06-28</td>\n",
       "      <td>Mobile</td>\n",
       "      <td>Impression</td>\n",
       "      <td>Video</td>\n",
       "      <td>Artists</td>\n",
       "      <td>4</td>\n",
       "    </tr>\n",
       "    <tr>\n",
       "      <th>375789</th>\n",
       "      <td>Pitchfork</td>\n",
       "      <td>U.S.</td>\n",
       "      <td>99994</td>\n",
       "      <td>90371827243</td>\n",
       "      <td>2019-06-28</td>\n",
       "      <td>Mobile</td>\n",
       "      <td>Impression</td>\n",
       "      <td>Video</td>\n",
       "      <td>Artists</td>\n",
       "      <td>5</td>\n",
       "    </tr>\n",
       "  </tbody>\n",
       "</table>\n",
       "<p>113803 rows × 10 columns</p>\n",
       "</div>"
      ],
      "text/plain": [
       "            Brand Market  User_Id   Session_Id       Date   Device  \\\n",
       "0       Pitchfork   U.S.    10006  14483128093 2019-09-12  Desktop   \n",
       "1       Pitchfork   U.S.    10006  14483128093 2019-09-12  Desktop   \n",
       "2       Pitchfork   U.S.    10006  14483128093 2019-09-12  Desktop   \n",
       "3       Pitchfork   U.S.    10006  14483128093 2019-09-12  Desktop   \n",
       "4       Pitchfork   U.S.    10006  14483128093 2019-09-12  Desktop   \n",
       "...           ...    ...      ...          ...        ...      ...   \n",
       "375785  Pitchfork   U.S.    99994  90371827243 2019-06-28   Mobile   \n",
       "375786  Pitchfork   U.S.    99994  90371827243 2019-06-28   Mobile   \n",
       "375787  Pitchfork   U.S.    99994  90371827243 2019-06-28   Mobile   \n",
       "375788  Pitchfork   U.S.    99994  90371827243 2019-06-28   Mobile   \n",
       "375789  Pitchfork   U.S.    99994  90371827243 2019-06-28   Mobile   \n",
       "\n",
       "        Event_Name Component_Name Site_Section  Event_Order  \n",
       "0         Pageview        Article        Songs            1  \n",
       "1       Impression          Video        Songs            2  \n",
       "2       Impression  Advertisement        Songs            3  \n",
       "3         Pageview        Gallery      Artists            4  \n",
       "4       Impression          Video      Artists            5  \n",
       "...            ...            ...          ...          ...  \n",
       "375785    Pageview        Gallery       Albums            1  \n",
       "375786  Impression  Advertisement       Albums            2  \n",
       "375787    Pageview        Gallery      Artists            3  \n",
       "375788  Impression          Video      Artists            4  \n",
       "375789  Impression          Video      Artists            5  \n",
       "\n",
       "[113803 rows x 10 columns]"
      ]
     },
     "execution_count": 124,
     "metadata": {},
     "output_type": "execute_result"
    }
   ],
   "source": [
    "Pitchfork_brand"
   ]
  },
  {
   "cell_type": "code",
   "execution_count": 127,
   "id": "38d6a79d-eae3-4574-b421-efbe8163719b",
   "metadata": {},
   "outputs": [],
   "source": [
    "pbd= Pitchfork_brand[['Event_Order','Date']]"
   ]
  },
  {
   "cell_type": "code",
   "execution_count": 129,
   "id": "c2fad91b-dc98-49ca-b3fe-0d27b5416d7f",
   "metadata": {
    "collapsed": true,
    "jupyter": {
     "outputs_hidden": true
    },
    "tags": []
   },
   "outputs": [
    {
     "name": "stderr",
     "output_type": "stream",
     "text": [
      "<ipython-input-129-1a1a404ed894>:1: SettingWithCopyWarning: \n",
      "A value is trying to be set on a copy of a slice from a DataFrame.\n",
      "Try using .loc[row_indexer,col_indexer] = value instead\n",
      "\n",
      "See the caveats in the documentation: https://pandas.pydata.org/pandas-docs/stable/user_guide/indexing.html#returning-a-view-versus-a-copy\n",
      "  pbd['month'] = pbd['Date'].dt.month\n"
     ]
    }
   ],
   "source": [
    "# Creating a month column \n",
    "pbd['month'] = pbd['Date'].dt.month"
   ]
  },
  {
   "cell_type": "code",
   "execution_count": 149,
   "id": "6410dd37-60b7-4112-a918-37725fe46d51",
   "metadata": {},
   "outputs": [],
   "source": [
    "retention = pbd.groupby(['month'])['Event_Order'].nunique()"
   ]
  },
  {
   "cell_type": "code",
   "execution_count": 150,
   "id": "06000585-f742-4f8e-b7c1-98e2a76dc64f",
   "metadata": {
    "tags": []
   },
   "outputs": [
    {
     "data": {
      "text/plain": [
       "month\n",
       "6     16\n",
       "7     13\n",
       "8     14\n",
       "9     22\n",
       "10    17\n",
       "11    15\n",
       "12    17\n",
       "Name: Event_Order, dtype: int64"
      ]
     },
     "execution_count": 150,
     "metadata": {},
     "output_type": "execute_result"
    }
   ],
   "source": [
    "retention"
   ]
  },
  {
   "cell_type": "code",
   "execution_count": 155,
   "id": "120b586d-1380-4e87-8249-9926a934c247",
   "metadata": {},
   "outputs": [
    {
     "data": {
      "image/png": "[encoded data removed]",
      "text/plain": [
       "<Figure size 432x288 with 1 Axes>"
      ]
     },
     "metadata": {
      "needs_background": "light"
     },
     "output_type": "display_data"
    }
   ],
   "source": [
    "#Retention rate per month\n",
    "retention.plot(x=\"Month\", y=[\"Retention\"], kind=\"line\",label='Retention')\n",
    "plt.legend()\n",
    "plt.show()"
   ]
  }
 ],
 "metadata": {
  "kernelspec": {
   "display_name": "Python 3",
   "language": "python",
   "name": "python3"
  },
  "language_info": {
   "codemirror_mode": {
    "name": "ipython",
    "version": 3
   },
   "file_extension": ".py",
   "mimetype": "text/x-python",
   "name": "python",
   "nbconvert_exporter": "python",
   "pygments_lexer": "ipython3",
   "version": "3.8.8"
  }
 },
 "nbformat": 4,
 "nbformat_minor": 5
}
